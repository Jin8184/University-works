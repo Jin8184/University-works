{
 "cells": [
  {
   "cell_type": "code",
   "execution_count": 4,
   "id": "94ec8339",
   "metadata": {},
   "outputs": [
    {
     "name": "stdout",
     "output_type": "stream",
     "text": [
      "['사과', '포도', '수박', '참외', '배', '자두']\n"
     ]
    }
   ],
   "source": [
    "fruit = ['사과','포도','수박','참외','배','자두']\n",
    "print(fruit)\n",
    "\n",
    " \n"
   ]
  },
  {
   "cell_type": "code",
   "execution_count": 5,
   "id": "d83d7cda",
   "metadata": {},
   "outputs": [],
   "source": [
    "a = []"
   ]
  },
  {
   "cell_type": "code",
   "execution_count": 6,
   "id": "ad2a18e7",
   "metadata": {},
   "outputs": [
    {
     "ename": "SyntaxError",
     "evalue": "invalid syntax (72703597.py, line 1)",
     "output_type": "error",
     "traceback": [
      "\u001b[1;36m  Input \u001b[1;32mIn [6]\u001b[1;36m\u001b[0m\n\u001b[1;33m    b = [1,2,3,4,5,,7,8,9,10]\u001b[0m\n\u001b[1;37m                   ^\u001b[0m\n\u001b[1;31mSyntaxError\u001b[0m\u001b[1;31m:\u001b[0m invalid syntax\n"
     ]
    }
   ],
   "source": [
    "b = [1,2,3,4,5,,7,8,9,10]"
   ]
  },
  {
   "cell_type": "code",
   "execution_count": 7,
   "id": "db8c145e",
   "metadata": {},
   "outputs": [],
   "source": [
    "c = ['korea','canada']"
   ]
  },
  {
   "cell_type": "code",
   "execution_count": 8,
   "id": "9acf6a79",
   "metadata": {},
   "outputs": [],
   "source": [
    "d = ['life','is',1,5]"
   ]
  },
  {
   "cell_type": "code",
   "execution_count": 9,
   "id": "5c466e49",
   "metadata": {},
   "outputs": [],
   "source": [
    "e = [1,5,['life','is']]"
   ]
  },
  {
   "cell_type": "code",
   "execution_count": 11,
   "id": "073672d3",
   "metadata": {},
   "outputs": [
    {
     "name": "stdout",
     "output_type": "stream",
     "text": [
      "data\n",
      "['d', 'a', 't', 'a']\n"
     ]
    }
   ],
   "source": [
    "n = 'data'\n",
    "print(n)\n",
    "\n",
    "nn = list(n)\n",
    "print(nn)"
   ]
  },
  {
   "cell_type": "code",
   "execution_count": 13,
   "id": "4c7d0ed3",
   "metadata": {},
   "outputs": [
    {
     "name": "stdout",
     "output_type": "stream",
     "text": [
      "big data\n",
      "['big', 'data']\n"
     ]
    }
   ],
   "source": [
    "n = 'big data'\n",
    "print(n)\n",
    "\n",
    "nn = n.split()\n",
    "print(nn)"
   ]
  },
  {
   "cell_type": "code",
   "execution_count": 15,
   "id": "4c38165f",
   "metadata": {},
   "outputs": [
    {
     "name": "stdout",
     "output_type": "stream",
     "text": [
      "red green blue\n"
     ]
    }
   ],
   "source": [
    "colors_1='red'\n",
    "colors_2='green'\n",
    "colors_3='blue'\n",
    "\n",
    "print(colors_1,colors_2,colors_3)"
   ]
  },
  {
   "cell_type": "code",
   "execution_count": 16,
   "id": "158c741c",
   "metadata": {},
   "outputs": [
    {
     "name": "stdout",
     "output_type": "stream",
     "text": [
      "['red', 'green', 'blue', 'yellow']\n"
     ]
    }
   ],
   "source": [
    "colors=['red','green','blue','yellow']\n",
    "\n",
    "print(colors)"
   ]
  },
  {
   "cell_type": "code",
   "execution_count": 20,
   "id": "3e102096",
   "metadata": {},
   "outputs": [
    {
     "name": "stdout",
     "output_type": "stream",
     "text": [
      "[1, 5, ['life', 'is']]\n",
      "----\n",
      "['life', 'is']\n",
      "life\n"
     ]
    }
   ],
   "source": [
    "print(e)\n",
    "print('----')\n",
    "print(e[2])\n",
    "print(e[2][0])"
   ]
  },
  {
   "cell_type": "code",
   "execution_count": 22,
   "id": "70d4697a",
   "metadata": {},
   "outputs": [
    {
     "name": "stdout",
     "output_type": "stream",
     "text": [
      "[30, 40, 50, 60, 70]\n",
      "[10, 20, 30, 40, 50, 60, 70, 80, 90]\n"
     ]
    }
   ],
   "source": [
    "q = [10,20,30,40,50,60,70,80,90]\n",
    "print(q[2:7])\n",
    "\n",
    "print(q[0:9])"
   ]
  },
  {
   "cell_type": "code",
   "execution_count": 24,
   "id": "c54c55a2",
   "metadata": {},
   "outputs": [
    {
     "name": "stdout",
     "output_type": "stream",
     "text": [
      "[10, 20, 30, 40, 50, 60, 70, 80, 90]\n",
      "[10, 30]\n"
     ]
    }
   ],
   "source": [
    "print(q[:])\n",
    "print(q[0:4:2])"
   ]
  },
  {
   "cell_type": "code",
   "execution_count": 27,
   "id": "fd0df7b7",
   "metadata": {},
   "outputs": [
    {
     "name": "stdout",
     "output_type": "stream",
     "text": [
      "[15, 20, 30, 40, 50, 60, 70, 80, 95]\n"
     ]
    }
   ],
   "source": [
    "q[0]=15\n",
    "q[-1]=95\n",
    "\n",
    "print(q)"
   ]
  },
  {
   "cell_type": "code",
   "execution_count": 28,
   "id": "525685b3",
   "metadata": {},
   "outputs": [
    {
     "name": "stdout",
     "output_type": "stream",
     "text": [
      "[1, 2, 3, 4, 5, 10]\n"
     ]
    }
   ],
   "source": [
    "a = [1,2,3,4,5]\n",
    "\n",
    "a.append(10)\n",
    "print(a)"
   ]
  },
  {
   "cell_type": "code",
   "execution_count": 29,
   "id": "8e9a9e09",
   "metadata": {},
   "outputs": [
    {
     "name": "stdout",
     "output_type": "stream",
     "text": [
      "[1, 2, 3, 4, 5, 10, [20, 30, 40, 50]]\n"
     ]
    }
   ],
   "source": [
    "b = [20,30,40,50]\n",
    "\n",
    "a.append(b)\n",
    "print(a)"
   ]
  },
  {
   "cell_type": "code",
   "execution_count": null,
   "id": "8ecb3fc3",
   "metadata": {},
   "outputs": [],
   "source": []
  }
 ],
 "metadata": {
  "kernelspec": {
   "display_name": "Python 3 (ipykernel)",
   "language": "python",
   "name": "python3"
  },
  "language_info": {
   "codemirror_mode": {
    "name": "ipython",
    "version": 3
   },
   "file_extension": ".py",
   "mimetype": "text/x-python",
   "name": "python",
   "nbconvert_exporter": "python",
   "pygments_lexer": "ipython3",
   "version": "3.9.12"
  }
 },
 "nbformat": 4,
 "nbformat_minor": 5
}
