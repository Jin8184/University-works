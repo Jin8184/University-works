{
 "cells": [
  {
   "cell_type": "code",
   "execution_count": 90,
   "id": "d9c0121d",
   "metadata": {},
   "outputs": [
    {
     "name": "stdout",
     "output_type": "stream",
     "text": [
      "hello wrld \n",
      " haha\n"
     ]
    }
   ],
   "source": [
    "print(\"hello wrld \\n haha\")\n",
    "# im just messing around here"
   ]
  },
  {
   "cell_type": "code",
   "execution_count": 91,
   "id": "9aef3215",
   "metadata": {},
   "outputs": [
    {
     "name": "stdout",
     "output_type": "stream",
     "text": [
      "3\n"
     ]
    }
   ],
   "source": [
    "a=3\n",
    "\n",
    "print(a)"
   ]
  },
  {
   "cell_type": "code",
   "execution_count": 92,
   "id": "95861b43",
   "metadata": {},
   "outputs": [
    {
     "name": "stdout",
     "output_type": "stream",
     "text": [
      "7\n"
     ]
    }
   ],
   "source": [
    "b=10\n",
    "\n",
    "print(b-a)"
   ]
  },
  {
   "cell_type": "code",
   "execution_count": 93,
   "id": "9c038b4b",
   "metadata": {},
   "outputs": [
    {
     "name": "stdout",
     "output_type": "stream",
     "text": [
      "3\n",
      "True\n"
     ]
    }
   ],
   "source": [
    "c=b/a\n",
    "\n",
    "\n",
    "print(int(c))\n",
    "print(c!=a)\n"
   ]
  },
  {
   "cell_type": "code",
   "execution_count": 94,
   "id": "2a317198",
   "metadata": {},
   "outputs": [
    {
     "name": "stdout",
     "output_type": "stream",
     "text": [
      "4\n"
     ]
    }
   ],
   "source": [
    "a = a+1\n",
    "print(a)\n",
    "# to here.\n"
   ]
  },
  {
   "cell_type": "code",
   "execution_count": 95,
   "id": "09a36dfb",
   "metadata": {},
   "outputs": [
    {
     "name": "stdout",
     "output_type": "stream",
     "text": [
      "11\n",
      "12\n"
     ]
    }
   ],
   "source": [
    "a = 10\n",
    "a = a+1\n",
    "print(a)\n",
    "\n",
    "b = 10\n",
    "b = b+2\n",
    "print(b)"
   ]
  },
  {
   "cell_type": "code",
   "execution_count": 96,
   "id": "62bb3d9d",
   "metadata": {},
   "outputs": [
    {
     "name": "stdout",
     "output_type": "stream",
     "text": [
      "U R goddamn Jaywalker haha\n"
     ]
    }
   ],
   "source": [
    "name = \"Jay\"\n",
    "fix = \"walker\"\n",
    "print(\"U R goddamn \"+name+fix+\" haha\")"
   ]
  },
  {
   "cell_type": "code",
   "execution_count": 97,
   "id": "5439fcee",
   "metadata": {},
   "outputs": [
    {
     "name": "stdout",
     "output_type": "stream",
     "text": [
      "name\n"
     ]
    }
   ],
   "source": [
    "print(\"name\")"
   ]
  },
  {
   "cell_type": "code",
   "execution_count": 98,
   "id": "ed4745f9",
   "metadata": {},
   "outputs": [
    {
     "ename": "NameError",
     "evalue": "name 'Jay' is not defined",
     "output_type": "error",
     "traceback": [
      "\u001b[1;31m---------------------------------------------------------------------------\u001b[0m",
      "\u001b[1;31mNameError\u001b[0m                                 Traceback (most recent call last)",
      "Input \u001b[1;32mIn [98]\u001b[0m, in \u001b[0;36m<cell line: 1>\u001b[1;34m()\u001b[0m\n\u001b[1;32m----> 1\u001b[0m \u001b[38;5;28mprint\u001b[39m(\u001b[43mJay\u001b[49m)\n",
      "\u001b[1;31mNameError\u001b[0m: name 'Jay' is not defined"
     ]
    }
   ],
   "source": [
    "print(Jay)\n",
    "\n",
    "# yeah the PC really fricked out this time."
   ]
  },
  {
   "cell_type": "code",
   "execution_count": 103,
   "id": "ec35121d",
   "metadata": {},
   "outputs": [
    {
     "name": "stdout",
     "output_type": "stream",
     "text": [
      "['False', 'None', 'True', '__peg_parser__', 'and', 'as', 'assert', 'async', 'await', 'break', 'class', 'continue', 'def', 'del', 'elif', 'else', 'except', 'finally', 'for', 'from', 'global', 'if', 'import', 'in', 'is', 'lambda', 'nonlocal', 'not', 'or', 'pass', 'raise', 'return', 'try', 'while', 'with', 'yield']\n",
      "36\n"
     ]
    }
   ],
   "source": [
    "import keyword\n",
    "print(keyword.kwlist)\n",
    "print(len(keyword.kwlist))"
   ]
  },
  {
   "cell_type": "code",
   "execution_count": 111,
   "id": "f5e6a4b8",
   "metadata": {},
   "outputs": [
    {
     "name": "stdout",
     "output_type": "stream",
     "text": [
      "Gur Mra bs Clguba, ol Gvz Crgref\n",
      "\n",
      "Ornhgvshy vf orggre guna htyl.\n",
      "Rkcyvpvg vf orggre guna vzcyvpvg.\n",
      "Fvzcyr vf orggre guna pbzcyrk.\n",
      "Pbzcyrk vf orggre guna pbzcyvpngrq.\n",
      "Syng vf orggre guna arfgrq.\n",
      "Fcnefr vf orggre guna qrafr.\n",
      "Ernqnovyvgl pbhagf.\n",
      "Fcrpvny pnfrf nera'g fcrpvny rabhtu gb oernx gur ehyrf.\n",
      "Nygubhtu cenpgvpnyvgl orngf chevgl.\n",
      "Reebef fubhyq arire cnff fvyragyl.\n",
      "Hayrff rkcyvpvgyl fvyraprq.\n",
      "Va gur snpr bs nzovthvgl, ershfr gur grzcgngvba gb thrff.\n",
      "Gurer fubhyq or bar-- naq cersrenoyl bayl bar --boivbhf jnl gb qb vg.\n",
      "Nygubhtu gung jnl znl abg or boivbhf ng svefg hayrff lbh'er Qhgpu.\n",
      "Abj vf orggre guna arire.\n",
      "Nygubhtu arire vf bsgra orggre guna *evtug* abj.\n",
      "Vs gur vzcyrzragngvba vf uneq gb rkcynva, vg'f n onq vqrn.\n",
      "Vs gur vzcyrzragngvba vf rnfl gb rkcynva, vg znl or n tbbq vqrn.\n",
      "Anzrfcnprf ner bar ubaxvat terng vqrn -- yrg'f qb zber bs gubfr!\n"
     ]
    }
   ],
   "source": [
    "import this\n",
    "print(this.s)"
   ]
  },
  {
   "cell_type": "code",
   "execution_count": 106,
   "id": "556fdbf7",
   "metadata": {},
   "outputs": [
    {
     "name": "stdout",
     "output_type": "stream",
     "text": [
      "<class 'float'>\n",
      "<class 'str'>\n"
     ]
    }
   ],
   "source": [
    "print(type(c))\n",
    "print(type(name))"
   ]
  },
  {
   "cell_type": "code",
   "execution_count": 117,
   "id": "f31baed2",
   "metadata": {},
   "outputs": [
    {
     "name": "stdout",
     "output_type": "stream",
     "text": [
      "나는 40살입니다.\n",
      "사실 구라지롱\n"
     ]
    }
   ],
   "source": [
    "me = \"나는\"\n",
    "age = \"40살입니다.\"\n",
    "print(me+\" \"+age+\"\\n사실 구라지롱\")"
   ]
  },
  {
   "cell_type": "code",
   "execution_count": 118,
   "id": "ebe38232",
   "metadata": {},
   "outputs": [
    {
     "ename": "TypeError",
     "evalue": "can only concatenate str (not \"int\") to str",
     "output_type": "error",
     "traceback": [
      "\u001b[1;31m---------------------------------------------------------------------------\u001b[0m",
      "\u001b[1;31mTypeError\u001b[0m                                 Traceback (most recent call last)",
      "Input \u001b[1;32mIn [118]\u001b[0m, in \u001b[0;36m<cell line: 2>\u001b[1;34m()\u001b[0m\n\u001b[0;32m      1\u001b[0m fage \u001b[38;5;241m=\u001b[39m \u001b[38;5;241m40\u001b[39m\n\u001b[1;32m----> 2\u001b[0m \u001b[38;5;28mprint\u001b[39m(\u001b[43mme\u001b[49m\u001b[38;5;241;43m+\u001b[39;49m\u001b[38;5;124;43m\"\u001b[39;49m\u001b[38;5;124;43m \u001b[39;49m\u001b[38;5;124;43m\"\u001b[39;49m\u001b[38;5;241;43m+\u001b[39;49m\u001b[43mfage\u001b[49m\u001b[38;5;241m+\u001b[39m\u001b[38;5;124m\"\u001b[39m\u001b[38;5;130;01m\\n\u001b[39;00m\u001b[38;5;124m사실 구라지롱\u001b[39m\u001b[38;5;124m\"\u001b[39m)\n",
      "\u001b[1;31mTypeError\u001b[0m: can only concatenate str (not \"int\") to str"
     ]
    }
   ],
   "source": [
    "fage = 40\n",
    "print(me+\" \"+fage+\"\\n사실 구라지롱\")"
   ]
  },
  {
   "cell_type": "code",
   "execution_count": 121,
   "id": "49e36fda",
   "metadata": {},
   "outputs": [
    {
     "name": "stdout",
     "output_type": "stream",
     "text": [
      "hehe\n"
     ]
    },
    {
     "data": {
      "text/plain": [
       "'hehe'"
      ]
     },
     "execution_count": 121,
     "metadata": {},
     "output_type": "execute_result"
    }
   ],
   "source": [
    "input()"
   ]
  },
  {
   "cell_type": "code",
   "execution_count": 130,
   "id": "66bde7f4",
   "metadata": {},
   "outputs": [
    {
     "name": "stdout",
     "output_type": "stream",
     "text": [
      "Type your birth year:2001\n",
      "Your age is: 21\n",
      "2022\n"
     ]
    }
   ],
   "source": [
    "from datetime import datetime\n",
    "\n",
    "birth_year = int(input(\"Type your birth year:\"))\n",
    "year = datetime.today().year\n",
    "age = year - birth_year\n",
    "print(\"Your age is:\", age)\n",
    "print(year)"
   ]
  },
  {
   "cell_type": "code",
   "execution_count": 134,
   "id": "39dbd0c8",
   "metadata": {
    "scrolled": true
   },
   "outputs": [
    {
     "name": "stdout",
     "output_type": "stream",
     "text": [
      "True\n"
     ]
    }
   ],
   "source": [
    "a = 10\n",
    "print(a == 10)"
   ]
  },
  {
   "cell_type": "code",
   "execution_count": 136,
   "id": "16e7c861",
   "metadata": {},
   "outputs": [
    {
     "data": {
      "text/plain": [
       "True"
      ]
     },
     "execution_count": 136,
     "metadata": {},
     "output_type": "execute_result"
    }
   ],
   "source": [
    "true = True\n",
    "true == 1"
   ]
  },
  {
   "cell_type": "code",
   "execution_count": 1,
   "id": "c050e6ba",
   "metadata": {
    "scrolled": true
   },
   "outputs": [
    {
     "name": "stdout",
     "output_type": "stream",
     "text": [
      "False\n",
      "True\n",
      "False\n",
      "True\n"
     ]
    }
   ],
   "source": [
    "print(bool(\"\"))\n",
    "print(bool(\"1\"))\n",
    "print(bool(0))\n",
    "print(bool(1))"
   ]
  },
  {
   "cell_type": "code",
   "execution_count": 3,
   "id": "9b5eda11",
   "metadata": {},
   "outputs": [
    {
     "data": {
      "text/plain": [
       "True"
      ]
     },
     "execution_count": 3,
     "metadata": {},
     "output_type": "execute_result"
    }
   ],
   "source": [
    "4//2 == 2"
   ]
  },
  {
   "cell_type": "code",
   "execution_count": 4,
   "id": "b9fa250b",
   "metadata": {},
   "outputs": [
    {
     "data": {
      "text/plain": [
       "True"
      ]
     },
     "execution_count": 4,
     "metadata": {},
     "output_type": "execute_result"
    }
   ],
   "source": [
    "not(5>3) or 3!=5"
   ]
  },
  {
   "cell_type": "code",
   "execution_count": 5,
   "id": "1156e642",
   "metadata": {},
   "outputs": [
    {
     "data": {
      "text/plain": [
       "True"
      ]
     },
     "execution_count": 5,
     "metadata": {},
     "output_type": "execute_result"
    }
   ],
   "source": [
    "not False"
   ]
  },
  {
   "cell_type": "code",
   "execution_count": 8,
   "id": "0e2d4412",
   "metadata": {},
   "outputs": [
    {
     "data": {
      "text/plain": [
       "True"
      ]
     },
     "execution_count": 8,
     "metadata": {},
     "output_type": "execute_result"
    }
   ],
   "source": [
    "not(not(5>3)) or 3!=5"
   ]
  },
  {
   "cell_type": "code",
   "execution_count": null,
   "id": "19b255d5",
   "metadata": {},
   "outputs": [],
   "source": [
    "not(not(5>3)) or 3!=5"
   ]
  },
  {
   "cell_type": "code",
   "execution_count": 9,
   "id": "a0308464",
   "metadata": {},
   "outputs": [
    {
     "data": {
      "text/plain": [
       "True"
      ]
     },
     "execution_count": 9,
     "metadata": {},
     "output_type": "execute_result"
    }
   ],
   "source": [
    "True or True"
   ]
  },
  {
   "cell_type": "code",
   "execution_count": 10,
   "id": "743009bb",
   "metadata": {},
   "outputs": [
    {
     "data": {
      "text/plain": [
       "True"
      ]
     },
     "execution_count": 10,
     "metadata": {},
     "output_type": "execute_result"
    }
   ],
   "source": [
    "True or False and False"
   ]
  },
  {
   "cell_type": "code",
   "execution_count": 13,
   "id": "8001ab6e",
   "metadata": {},
   "outputs": [
    {
     "name": "stdout",
     "output_type": "stream",
     "text": [
      "65\n",
      "66\n",
      "67\n"
     ]
    }
   ],
   "source": [
    "print(ord(\"A\"))\n",
    "print(ord(\"B\"))\n",
    "print(ord(\"C\"))\n",
    "\n",
    "print(ord(\"A\"))\n",
    "print(ord(\"A\"))\n",
    "print(ord(\"A\"))"
   ]
  },
  {
   "cell_type": "code",
   "execution_count": 16,
   "id": "81eb2fa8",
   "metadata": {},
   "outputs": [
    {
     "name": "stdout",
     "output_type": "stream",
     "text": [
      "2\n"
     ]
    }
   ],
   "source": [
    "a = 1\n",
    "\n",
    "a += 1\n",
    "\n",
    "print(a)"
   ]
  },
  {
   "cell_type": "code",
   "execution_count": 22,
   "id": "3fb2726c",
   "metadata": {},
   "outputs": [
    {
     "name": "stdout",
     "output_type": "stream",
     "text": [
      "5\n",
      "<class 'list'>\n"
     ]
    }
   ],
   "source": [
    "list = [10, 20, 30, 40, 50]  #시퀀스(시간의 흐름에 따름) 자료형.\n",
    "                     #특징/공통점: 인덱스. 0번부터 순서를 매김\n",
    "\n",
    "print(len(list))\n",
    "# print(a[1:3])\n",
    "# print(a[1])\n",
    "\n",
    "print(type(list))"
   ]
  },
  {
   "cell_type": "code",
   "execution_count": 26,
   "id": "5491e631",
   "metadata": {},
   "outputs": [
    {
     "name": "stdout",
     "output_type": "stream",
     "text": [
      "['생물', '화학']\n",
      "화학\n",
      "4\n"
     ]
    }
   ],
   "source": [
    "sub = [\"국어\", \"영어\", \"수학\", [\"생물\", \"화학\"]]\n",
    "\n",
    "print(sub[3])\n",
    "print(sub[3][1])\n",
    "print(len(sub))"
   ]
  },
  {
   "cell_type": "code",
   "execution_count": 36,
   "id": "e482f7c9",
   "metadata": {},
   "outputs": [
    {
     "name": "stdout",
     "output_type": "stream",
     "text": [
      "Weird assemble\n",
      "['Lisa', 'Zenny', 'Wanze', 'Zisu'] \n",
      "\n",
      "Replace someone\n",
      "['Lisa', 'Zenny', 'Roze', 'Zisu'] \n",
      "\n",
      "Added weirdo again\n",
      "['Lisa', 'Wanze', 'Zenny', 'Roze', 'Zisu'] \n",
      "\n",
      "Sorting...\n",
      "['Lisa', 'Roze', 'Wanze', 'Zenny', 'Zisu'] \n",
      "\n",
      "Remove Wanze\n",
      "['Lisa', 'Roze', 'Zenny', 'Zisu'] \n",
      "\n",
      "Is there any weirdo?\n",
      "False\n"
     ]
    }
   ],
   "source": [
    "blpin = []\n",
    "blpin.append(\"Lisa\")\n",
    "blpin.append(\"Zenny\")\n",
    "blpin.append(\"Wanze\")\n",
    "blpin.append(\"Zisu\")\n",
    "print(\"Weird assemble\")\n",
    "print(blpin, \"\\n\")\n",
    "\n",
    "blpin [2] = \"Roze\"\n",
    "print(\"Replace someone\")\n",
    "print(blpin, \"\\n\")\n",
    "\n",
    "blpin.insert(1, \"Wanze\")\n",
    "print(\"Added weirdo again\")\n",
    "print(blpin, \"\\n\")\n",
    "\n",
    "blpin.sort()\n",
    "print(\"Sorting...\")\n",
    "print(blpin, \"\\n\")\n",
    "\n",
    "blpin.remove(\"Wanze\")\n",
    "print(\"Remove Wanze\")\n",
    "print(blpin, \"\\n\")\n",
    "\n",
    "print(\"Is there any weirdo?\")\n",
    "print(\"Wanze\" in blpin)"
   ]
  },
  {
   "cell_type": "code",
   "execution_count": 49,
   "id": "2071a45f",
   "metadata": {
    "scrolled": true
   },
   "outputs": [
    {
     "name": "stdout",
     "output_type": "stream",
     "text": [
      "[4:9]\n",
      "k k \n",
      "\n",
      "[0:5]\n",
      "Black \n",
      "\n",
      "[6:]\n",
      "Pink \n",
      "\n",
      "BP + L\n",
      "Black Pink love \n",
      "\n",
      " L L L\n",
      " love love love \n",
      "\n",
      "How long is \"a?\"\n",
      "10 \n",
      "\n",
      "Is there \"a\" in Black?\n",
      "True\n"
     ]
    }
   ],
   "source": [
    "a = \"Black Pink\"\n",
    "print(\"[4:9]\")\n",
    "print(a[4], a[9], \"\\n\")\n",
    "\n",
    "print(\"[0:5]\")\n",
    "print(a[0:5], \"\\n\")\n",
    "      \n",
    "print(\"[6:]\")\n",
    "print(a[6:], \"\\n\")\n",
    "\n",
    "b = \" love\"\n",
    "print(\"BP + L\")\n",
    "print(a+b, \"\\n\")\n",
    "\n",
    "print(\" L L L\")\n",
    "print(b * 3, \"\\n\")\n",
    "\n",
    "print(\"How long is \\\"a?\\\"\")\n",
    "print(len(a), \"\\n\")\n",
    "\n",
    "print(\"Is there \\\"a\\\" in Black?\")\n",
    "print(\"a\" in \"Black\")"
   ]
  },
  {
   "cell_type": "code",
   "execution_count": 52,
   "id": "8cc660ca",
   "metadata": {},
   "outputs": [
    {
     "name": "stdout",
     "output_type": "stream",
     "text": [
      "80\n"
     ]
    }
   ],
   "source": [
    "print(len(dir(str))) #Use cheatsheet U dickhead or stack overflow or github or urdad"
   ]
  },
  {
   "cell_type": "code",
   "execution_count": null,
   "id": "a7a422e4",
   "metadata": {},
   "outputs": [],
   "source": [
    "# help()"
   ]
  },
  {
   "cell_type": "code",
   "execution_count": 1,
   "id": "a9c719bc",
   "metadata": {},
   "outputs": [
    {
     "name": "stdout",
     "output_type": "stream",
     "text": [
      "Black Pink\n"
     ]
    }
   ],
   "source": [
    "a = \"Black Pink\"\n",
    "a.split()\n",
    "print(a)\n",
    "\n",
    "\n",
    "#####IT DOSENT WORK\n",
    "#NVM the kernal was busy as hell"
   ]
  },
  {
   "cell_type": "code",
   "execution_count": 2,
   "id": "b585ea8d",
   "metadata": {},
   "outputs": [
    {
     "name": "stdout",
     "output_type": "stream",
     "text": [
      "black pink\n",
      "BLACK PINK\n"
     ]
    }
   ],
   "source": [
    "a = \"Black Pink\"\n",
    "a = a.lower()\n",
    "print(a)\n",
    "\n",
    "b = a.upper()\n",
    "print(b)"
   ]
  },
  {
   "cell_type": "code",
   "execution_count": 4,
   "id": "3577e8e5",
   "metadata": {},
   "outputs": [
    {
     "name": "stdout",
     "output_type": "stream",
     "text": [
      "1000\n"
     ]
    }
   ],
   "source": [
    "print(\"%d\" % 1000)"
   ]
  },
  {
   "cell_type": "code",
   "execution_count": 5,
   "id": "11929547",
   "metadata": {},
   "outputs": [
    {
     "name": "stdout",
     "output_type": "stream",
     "text": [
      "100\n"
     ]
    }
   ],
   "source": [
    "print(\"%d\" % 100.123)"
   ]
  },
  {
   "cell_type": "code",
   "execution_count": 8,
   "id": "f3031cc4",
   "metadata": {},
   "outputs": [
    {
     "name": "stdout",
     "output_type": "stream",
     "text": [
      "123.456789\n",
      "123.4567890000\n",
      "123.46\n",
      "123.457\n",
      "123\n"
     ]
    }
   ],
   "source": [
    "a= 123.456789\n",
    "print(\"%f\" % a)\n",
    "print(\"%.10f\" % a)\n",
    "print(\"%.2f\" % a)\n",
    "print(\"%.3f\" % a)\n",
    "print(\"%d\" % a)"
   ]
  },
  {
   "cell_type": "code",
   "execution_count": 9,
   "id": "e61fb97f",
   "metadata": {},
   "outputs": [
    {
     "name": "stdout",
     "output_type": "stream",
     "text": [
      "나는 오늘 5번 밥을 먹었습니다. 지금 밥이 먹고 싶어요.\n"
     ]
    }
   ],
   "source": [
    "print(\"나는 오늘 %d번 밥을 먹었습니다. 지금 %s이 먹고 싶어요.\" % (5, \"밥\"))"
   ]
  },
  {
   "cell_type": "code",
   "execution_count": 11,
   "id": "a8bd9561",
   "metadata": {},
   "outputs": [
    {
     "name": "stdout",
     "output_type": "stream",
     "text": [
      "오늘 날씨는 sunny이고, 기온은 28도입니다.\n"
     ]
    }
   ],
   "source": [
    "print(\"오늘 날씨는 {}이고, 기온은 {}도입니다.\" .format(\"sunny\", 28))"
   ]
  },
  {
   "cell_type": "code",
   "execution_count": 14,
   "id": "c7ce28a4",
   "metadata": {},
   "outputs": [
    {
     "name": "stdout",
     "output_type": "stream",
     "text": [
      "오늘 날씨는 sunny이고, 기온은 28도입니다.\n"
     ]
    }
   ],
   "source": [
    "print(\"오늘 날씨는 {0}이고, 기온은 {1}도입니다.\" .format(\"sunny\", 28))"
   ]
  },
  {
   "cell_type": "code",
   "execution_count": 15,
   "id": "0de41c50",
   "metadata": {},
   "outputs": [
    {
     "name": "stdout",
     "output_type": "stream",
     "text": [
      "오늘 날씨는 sunny이고, 기온은 28도입니다.\n"
     ]
    }
   ],
   "source": [
    "print(\"오늘 날씨는 {weather}이고, 기온은 {deg}도입니다.\" .format(deg=28, weather=\"sunny\"))"
   ]
  },
  {
   "cell_type": "code",
   "execution_count": 23,
   "id": "7fa62342",
   "metadata": {},
   "outputs": [
    {
     "name": "stdout",
     "output_type": "stream",
     "text": [
      "\tShoutout \n",
      "to \n",
      "\t\"simpleflips\"\n"
     ]
    }
   ],
   "source": [
    "print('\\tShoutout \\nto \\n\\t\\\"simpleflips\\\"')\n",
    "\n",
    "##Be careful about same thing"
   ]
  },
  {
   "cell_type": "code",
   "execution_count": 1,
   "id": "67bea2ae",
   "metadata": {},
   "outputs": [
    {
     "ename": "TypeError",
     "evalue": "'tuple' object does not support item assignment",
     "output_type": "error",
     "traceback": [
      "\u001b[1;31m---------------------------------------------------------------------------\u001b[0m",
      "\u001b[1;31mTypeError\u001b[0m                                 Traceback (most recent call last)",
      "Input \u001b[1;32mIn [1]\u001b[0m, in \u001b[0;36m<cell line: 2>\u001b[1;34m()\u001b[0m\n\u001b[0;32m      1\u001b[0m Tot \u001b[38;5;241m=\u001b[39m (\u001b[38;5;124m'\u001b[39m\u001b[38;5;124mSon\u001b[39m\u001b[38;5;124m'\u001b[39m, \u001b[38;5;124m'\u001b[39m\u001b[38;5;124mKein\u001b[39m\u001b[38;5;124m'\u001b[39m)\n\u001b[1;32m----> 2\u001b[0m Tot[\u001b[38;5;241m1\u001b[39m] \u001b[38;5;241m=\u001b[39m \u001b[38;5;124m'\u001b[39m\u001b[38;5;124mSalla\u001b[39m\u001b[38;5;124m'\u001b[39m\n",
      "\u001b[1;31mTypeError\u001b[0m: 'tuple' object does not support item assignment"
     ]
    }
   ],
   "source": [
    "Tot = ('Son', 'Kein')\n",
    "Tot[1] = 'Salla'\n",
    "\n",
    "# TypeError: 'tuple' object does not support item assignment"
   ]
  },
  {
   "cell_type": "code",
   "execution_count": 3,
   "id": "61a10c45",
   "metadata": {},
   "outputs": [
    {
     "name": "stdout",
     "output_type": "stream",
     "text": [
      "2\n",
      "1\n"
     ]
    }
   ],
   "source": [
    "a = 1\n",
    "b = 2\n",
    "\n",
    "a, b = b, a\n",
    "print(a)\n",
    "print(b)\n",
    "\n",
    "##############왜 이런 짓을"
   ]
  },
  {
   "cell_type": "code",
   "execution_count": 71,
   "id": "4f13194d",
   "metadata": {},
   "outputs": [
    {
     "name": "stdout",
     "output_type": "stream",
     "text": [
      "조건문을 실행합니다.\n"
     ]
    }
   ],
   "source": [
    "if True:\n",
    "    print(\"조건문을 실행합니다.\")"
   ]
  },
  {
   "cell_type": "code",
   "execution_count": 74,
   "id": "8f0e775c",
   "metadata": {},
   "outputs": [
    {
     "name": "stdout",
     "output_type": "stream",
     "text": [
      "몰루\n"
     ]
    }
   ],
   "source": [
    "x = 3\n",
    "if x % 2 == 0:   #0이면 당연히 짝수\n",
    "    print(x, \"는 짝수입니다\")\n",
    "print(\"몰루\")"
   ]
  },
  {
   "cell_type": "code",
   "execution_count": 76,
   "id": "5dbc1c0f",
   "metadata": {},
   "outputs": [
    {
     "name": "stdout",
     "output_type": "stream",
     "text": [
      "3 는 홀수입니다\n"
     ]
    }
   ],
   "source": [
    "x = 3\n",
    "if x % 2 == 0:   #0이면 당연히 짝수\n",
    "    print(x, \"는 짝수입니다\")\n",
    "if x % 2 != 0:\n",
    "    print(x, \"는 홀수입니다\")"
   ]
  },
  {
   "cell_type": "code",
   "execution_count": 77,
   "id": "6a125307",
   "metadata": {},
   "outputs": [
    {
     "name": "stdout",
     "output_type": "stream",
     "text": [
      "7 는 홀수입니다\n"
     ]
    }
   ],
   "source": [
    "x = 7\n",
    "\n",
    "if x % 2 == 0:\n",
    "    print(x, \"는 짝수입니다\")\n",
    "    \n",
    "else:\n",
    "    print(x, \"는 홀수입니다\")"
   ]
  },
  {
   "cell_type": "code",
   "execution_count": 79,
   "id": "7eedef0b",
   "metadata": {},
   "outputs": [
    {
     "name": "stdout",
     "output_type": "stream",
     "text": [
      "당신의 점수는: 80\n",
      "B\n"
     ]
    }
   ],
   "source": [
    "score = int(input(\"당신의 점수는: \"))\n",
    "\n",
    "if score >= 90:\n",
    "    print(\"A\")\n",
    "elif score >= 80:\n",
    "    print(\"B\")\n",
    "elif score >= 70:\n",
    "    print(\"C\")\n",
    "else:\n",
    "    print(\"D\")"
   ]
  },
  {
   "cell_type": "code",
   "execution_count": 80,
   "id": "2a91572f",
   "metadata": {},
   "outputs": [
    {
     "name": "stdout",
     "output_type": "stream",
     "text": [
      "0\n",
      "1\n",
      "2\n",
      "3\n",
      "4\n",
      "5\n",
      "6\n",
      "7\n",
      "8\n",
      "9\n"
     ]
    }
   ],
   "source": [
    "i = 0\n",
    "while i < 10:\n",
    "    print(i)\n",
    "    i += 1"
   ]
  },
  {
   "cell_type": "code",
   "execution_count": 85,
   "id": "dc090b66",
   "metadata": {},
   "outputs": [
    {
     "name": "stdout",
     "output_type": "stream",
     "text": [
      "1\n",
      "2\n",
      "3\n",
      "4\n",
      "5\n",
      "6\n",
      "7\n",
      "8\n",
      "9\n",
      "10\n",
      "\n",
      " 10\n"
     ]
    }
   ],
   "source": [
    "i = 1\n",
    "sum_ = 0\n",
    "\n",
    "while i <= 10:\n",
    "    sum_ = sum_ + 1\n",
    "    print(sum_)\n",
    "    i = i + 1\n",
    "    \n",
    "print(\"\\n\", sum_)"
   ]
  },
  {
   "cell_type": "code",
   "execution_count": 87,
   "id": "f896edf2",
   "metadata": {},
   "outputs": [
    {
     "data": {
      "text/plain": [
       "55"
      ]
     },
     "execution_count": 87,
     "metadata": {},
     "output_type": "execute_result"
    }
   ],
   "source": [
    "a = [1,2,3,4,5,6,7,8,9,10]\n",
    "sum(a)"
   ]
  },
  {
   "cell_type": "code",
   "execution_count": 89,
   "id": "3002081a",
   "metadata": {},
   "outputs": [
    {
     "name": "stdout",
     "output_type": "stream",
     "text": [
      "비밀번호는: 12345\n",
      "비밀번호는: 477375\n",
      "비밀번호는: \n",
      "비밀번호는: 1234\n",
      "어서오세요\n"
     ]
    }
   ],
   "source": [
    "pwd = \"0000\"\n",
    "\n",
    "while pwd !=\"1234\":\n",
    "    pwd = input(\"비밀번호는: \")\n",
    "print(\"어서오세요\")"
   ]
  },
  {
   "cell_type": "code",
   "execution_count": 90,
   "id": "eeeb9f7d",
   "metadata": {},
   "outputs": [
    {
     "name": "stdout",
     "output_type": "stream",
     "text": [
      "0 1 2 3 4 5 6 7 8 9 "
     ]
    }
   ],
   "source": [
    "for i in [0,1,2,3,4,5,6,7,8,9]:\n",
    "    print(i, end=' ')"
   ]
  },
  {
   "cell_type": "code",
   "execution_count": 91,
   "id": "3a1ae521",
   "metadata": {},
   "outputs": [
    {
     "name": "stdout",
     "output_type": "stream",
     "text": [
      "Zenny\n",
      "Zisu\n",
      "Rose\n",
      "Lisa\n"
     ]
    }
   ],
   "source": [
    "blackpink = [\"Zenny\", \"Zisu\", \"Rose\", \"Lisa\"]\n",
    "for member in blackpink:\n",
    "    print (member)"
   ]
  },
  {
   "cell_type": "code",
   "execution_count": 92,
   "id": "f79d0109",
   "metadata": {},
   "outputs": [
    {
     "name": "stdout",
     "output_type": "stream",
     "text": [
      "P\n",
      "y\n",
      "t\n",
      "h\n",
      "o\n",
      "n\n"
     ]
    }
   ],
   "source": [
    "for letter in \"Python\":\n",
    "    print(letter)"
   ]
  },
  {
   "cell_type": "code",
   "execution_count": 93,
   "id": "6d0c6aa8",
   "metadata": {},
   "outputs": [
    {
     "name": "stdout",
     "output_type": "stream",
     "text": [
      "0 1 2 3 4 5 6 7 8 9 "
     ]
    }
   ],
   "source": [
    "for i in range(0, 10):\n",
    "    print(i, end=' ')"
   ]
  },
  {
   "cell_type": "code",
   "execution_count": 94,
   "id": "b1c985a2",
   "metadata": {},
   "outputs": [
    {
     "name": "stdout",
     "output_type": "stream",
     "text": [
      "hi hi hi hi hi hi hi hi hi hi "
     ]
    }
   ],
   "source": [
    "for i in range(10):\n",
    "    print('hi', end=' ')"
   ]
  },
  {
   "cell_type": "code",
   "execution_count": 96,
   "id": "36da38ff",
   "metadata": {},
   "outputs": [
    {
     "name": "stdout",
     "output_type": "stream",
     "text": [
      "1 3 5 7 9 "
     ]
    }
   ],
   "source": [
    "for i in range(1, 10, 2):   ##1부터 10 미만까지 2씩 증가\n",
    "    print(i, end=' ')"
   ]
  },
  {
   "cell_type": "code",
   "execution_count": 97,
   "id": "72e3abe7",
   "metadata": {},
   "outputs": [
    {
     "name": "stdout",
     "output_type": "stream",
     "text": [
      "0 hello\n",
      "1 hello\n",
      "2 hello\n",
      "3 hello\n",
      "4 hello\n"
     ]
    }
   ],
   "source": [
    "for i in range(5):\n",
    "    print(i, \"hello\")"
   ]
  },
  {
   "cell_type": "code",
   "execution_count": 8,
   "id": "b026975c",
   "metadata": {},
   "outputs": [
    {
     "name": "stdout",
     "output_type": "stream",
     "text": [
      "0 : 55\n",
      "1 : 70\n",
      "2 : 92\n",
      "3 : 88\n"
     ]
    }
   ],
   "source": [
    "score = enumerate([55, 70, 92, 88])\n",
    "for i, value in score:\n",
    "    print(i, \":\", value)"
   ]
  },
  {
   "cell_type": "code",
   "execution_count": 9,
   "id": "7b5b86c7",
   "metadata": {},
   "outputs": [
    {
     "name": "stdout",
     "output_type": "stream",
     "text": [
      "1번째 과목은 D.\n",
      "2번째 과목은 C.\n",
      "3번째 과목은 A.\n",
      "4번째 과목은 B.\n"
     ]
    }
   ],
   "source": [
    "score = [55, 70, 92, 88]\n",
    "\n",
    "number = 0\n",
    "for i in score:\n",
    "    number = number + 1\n",
    "    if i >= 90:\n",
    "        print(\"%d번째 과목은 A.\" % number)\n",
    "    elif i >= 80:\n",
    "        print(\"%d번째 과목은 B.\" % number)\n",
    "    elif i >= 70:\n",
    "        print(\"%d번째 과목은 C.\" % number)\n",
    "    else:\n",
    "        print(\"%d번째 과목은 D.\" % number)"
   ]
  },
  {
   "cell_type": "code",
   "execution_count": 10,
   "id": "6397b486",
   "metadata": {},
   "outputs": [
    {
     "name": "stdout",
     "output_type": "stream",
     "text": [
      "Zenny\n",
      "Z\n",
      "e\n",
      "n\n",
      "n\n",
      "y\n",
      "Zisu\n",
      "Z\n",
      "i\n",
      "s\n",
      "u\n",
      "Rose\n",
      "R\n",
      "o\n",
      "s\n",
      "e\n",
      "Lisa\n",
      "L\n",
      "i\n",
      "s\n",
      "a\n"
     ]
    }
   ],
   "source": [
    "blackpink = [\"Zenny\", \"Zisu\", \"Rose\", \"Lisa\"]\n",
    "for member in blackpink:\n",
    "    print(member)\n",
    "    for name in member:\n",
    "        print(name)"
   ]
  },
  {
   "cell_type": "code",
   "execution_count": 3,
   "id": "edbe3f70",
   "metadata": {},
   "outputs": [
    {
     "name": "stdout",
     "output_type": "stream",
     "text": [
      "2\n",
      "2 * 1 = 2\n",
      "2 * 2 = 4\n",
      "2 * 3 = 6\n",
      "2 * 4 = 8\n",
      "2 * 5 = 10\n",
      "3\n",
      "3 * 1 = 3\n",
      "3 * 2 = 6\n",
      "3 * 3 = 9\n",
      "3 * 4 = 12\n",
      "3 * 5 = 15\n",
      "4\n",
      "4 * 1 = 4\n",
      "4 * 2 = 8\n",
      "4 * 3 = 12\n",
      "4 * 4 = 16\n",
      "4 * 5 = 20\n",
      "5\n",
      "5 * 1 = 5\n",
      "5 * 2 = 10\n",
      "5 * 3 = 15\n",
      "5 * 4 = 20\n",
      "5 * 5 = 25\n"
     ]
    }
   ],
   "source": [
    "for i in range (2, 6, 1):\n",
    "    print(i)                 #다중 for문\n",
    "    for j in range(1, 6, 1):\n",
    "        print(i, \"*\", j, \"=\", i*j)"
   ]
  },
  {
   "cell_type": "code",
   "execution_count": 7,
   "id": "27721e9b",
   "metadata": {},
   "outputs": [
    {
     "name": "stdout",
     "output_type": "stream",
     "text": [
      "2\n",
      "2 * 1 = 2\n",
      "2 * 2 = 4\n",
      "2 * 3 = 6\n",
      "2 * 4 = 8\n",
      "2 * 5 = 10\n",
      "3\n",
      "3 * 1 = 3\n",
      "3 * 2 = 6\n",
      "3 * 3 = 9\n",
      "3 * 4 = 12\n",
      "3 * 5 = 15\n",
      "4\n",
      "4 * 1 = 4\n",
      "4 * 2 = 8\n",
      "4 * 3 = 12\n",
      "4 * 4 = 16\n",
      "4 * 5 = 20\n",
      "5\n",
      "5 * 1 = 5\n",
      "5 * 2 = 10\n",
      "5 * 3 = 15\n",
      "5 * 4 = 20\n",
      "5 * 5 = 25\n"
     ]
    }
   ],
   "source": [
    "i = 2\n",
    "\n",
    "while i < 6:\n",
    "    print(i)\n",
    "    j = 1\n",
    "    while j < 6:\n",
    "        print(i, \"*\", j, \"=\", i*j)\n",
    "        j = j + 1\n",
    "    i = i + 1"
   ]
  },
  {
   "cell_type": "code",
   "execution_count": 1,
   "id": "7cf45f17",
   "metadata": {},
   "outputs": [
    {
     "name": "stdout",
     "output_type": "stream",
     "text": [
      "0 1 2 3 4 5 6 7 8 9 "
     ]
    }
   ],
   "source": [
    "i = 0\n",
    "while i<10:\n",
    "    print(i, end = \" \")\n",
    "    i= i + 1"
   ]
  },
  {
   "cell_type": "code",
   "execution_count": 2,
   "id": "e80b24af",
   "metadata": {},
   "outputs": [
    {
     "name": "stdout",
     "output_type": "stream",
     "text": [
      "0 1 2 3 4 5 6 7 8 9 "
     ]
    }
   ],
   "source": [
    "i = 0\n",
    "while True:\n",
    "    print(i, end = \" \")\n",
    "    i= i + 1\n",
    "    if i >= 10:\n",
    "        break  ##돔황챠~~~"
   ]
  },
  {
   "cell_type": "code",
   "execution_count": 8,
   "id": "c3e24784",
   "metadata": {},
   "outputs": [
    {
     "name": "stdout",
     "output_type": "stream",
     "text": [
      "2\n",
      "4\n",
      "6\n",
      "8\n"
     ]
    }
   ],
   "source": [
    "for i in range(1, 10):\n",
    "    if i % 2 == 0:\n",
    "        print(i)"
   ]
  },
  {
   "cell_type": "code",
   "execution_count": 10,
   "id": "00c00304",
   "metadata": {},
   "outputs": [
    {
     "name": "stdout",
     "output_type": "stream",
     "text": [
      "2\n",
      "4\n",
      "6\n",
      "8\n"
     ]
    }
   ],
   "source": [
    "for i in range(1, 10):\n",
    "    if i % 2 != 0:\n",
    "        continue\n",
    "    print(i)"
   ]
  },
  {
   "cell_type": "code",
   "execution_count": 14,
   "id": "d9ef1171",
   "metadata": {},
   "outputs": [
    {
     "name": "stdout",
     "output_type": "stream",
     "text": [
      "['Zenny', 'Rose', 'Lisa', 'Zisu']\n",
      "['Irin', 'Wendy', 'Sulgui', 'Zoy']\n"
     ]
    }
   ],
   "source": [
    "bprv = [[\"Zenny\",\"Irin\"],[\"Rose\",\"Wendy\", \"Lollo\"],[\"Lisa\", \"Sulgui\"],[\"Zisu\", \"Zoy\"]]  ## Who is Lollo?\n",
    "        \n",
    "bp = [i[0] for i in bprv]\n",
    "rv = [i[1] for i in bprv]\n",
    "        \n",
    "print(bp)\n",
    "print(rv)"
   ]
  },
  {
   "cell_type": "code",
   "execution_count": 16,
   "id": "7fa3338c",
   "metadata": {},
   "outputs": [
    {
     "name": "stdout",
     "output_type": "stream",
     "text": [
      "[4, 5]\n",
      "[11, 33, 55]\n"
     ]
    }
   ],
   "source": [
    "a = [[1, 11], [2, 22], [3,33], [4,44], [5,55]]\n",
    "x = [i[0] for i in a if i[0] > 3]\n",
    "y = [i[1] for i in a if i[1] % 2 != 0]\n",
    "\n",
    "print(x)\n",
    "print(y)"
   ]
  },
  {
   "cell_type": "code",
   "execution_count": 30,
   "id": "24f7c0a7",
   "metadata": {},
   "outputs": [
    {
     "name": "stdout",
     "output_type": "stream",
     "text": [
      "My name is Jay, Age is 20.\n",
      "Hobby is reading and movie.\n",
      "aaaaa\n"
     ]
    }
   ],
   "source": [
    "def im ():\n",
    "        print(\"My name is %s, Age is %d.\" % ('Jay', 20))\n",
    "        print('Hobby is {} and {}.' .format('reading', 'movie'))\n",
    "        print(\"aaaaa\")\n",
    "        \n",
    "im()"
   ]
  },
  {
   "cell_type": "code",
   "execution_count": 32,
   "id": "0e9aa0bf",
   "metadata": {},
   "outputs": [
    {
     "name": "stdout",
     "output_type": "stream",
     "text": [
      "fuk you\n",
      "fuk you\n"
     ]
    }
   ],
   "source": [
    "def hate_repeat (something):\n",
    "    print(something)\n",
    "    print(something)\n",
    "    \n",
    "hate_repeat(\"fuk you\")"
   ]
  },
  {
   "cell_type": "code",
   "execution_count": 36,
   "id": "1fe2fe10",
   "metadata": {},
   "outputs": [
    {
     "name": "stdout",
     "output_type": "stream",
     "text": [
      "50\n",
      "3\n"
     ]
    }
   ],
   "source": [
    "def 더하기 (n1, n2):\n",
    "    sum1 = n1 + n2\n",
    "    return sum1\n",
    "print(더하기(20, 30))\n",
    "\n",
    "result = 더하기(1, 2)\n",
    "print(result)"
   ]
  },
  {
   "cell_type": "code",
   "execution_count": null,
   "id": "1e077505",
   "metadata": {},
   "outputs": [],
   "source": []
  },
  {
   "cell_type": "code",
   "execution_count": 40,
   "id": "91a8cd27",
   "metadata": {},
   "outputs": [
    {
     "data": {
      "text/plain": [
       "1"
      ]
     },
     "execution_count": 40,
     "metadata": {},
     "output_type": "execute_result"
    }
   ],
   "source": [
    "def OR(x1, x2):\n",
    "    if x1 == 1:\n",
    "        return 1\n",
    "    elif x2 == 1:\n",
    "        return 1\n",
    "    else:\n",
    "        return 0\n",
    "    \n",
    "OR(0,1)"
   ]
  },
  {
   "cell_type": "code",
   "execution_count": 44,
   "id": "f3fa98ea",
   "metadata": {},
   "outputs": [
    {
     "name": "stdout",
     "output_type": "stream",
     "text": [
      "Jay hi\n",
      "Jay hi\n",
      "Jay hi\n",
      "Jay hi\n",
      "Jay hi\n",
      "Jay hi\n",
      "Jay hi\n",
      "Jay hi\n",
      "Jay hi\n",
      "Jay hi\n",
      "Jay hi\n",
      "Jay hi\n",
      "Jay hi\n",
      "Jay hi\n",
      "Jay hi\n",
      "Jay hi\n"
     ]
    }
   ],
   "source": [
    "def greet(name, hello=2): ##default count, hello has 2 in default.\n",
    "    for i in range(hello):\n",
    "        print(name, \"hi\")\n",
    "        \n",
    "greet(\"Jay\", 16)"
   ]
  },
  {
   "cell_type": "code",
   "execution_count": 45,
   "id": "e55efc56",
   "metadata": {},
   "outputs": [
    {
     "name": "stdout",
     "output_type": "stream",
     "text": [
      "2\n",
      "1\n"
     ]
    }
   ],
   "source": [
    "x = 1 #global\n",
    "\n",
    "def func1():\n",
    "    x = 2  #not global\n",
    "    return x\n",
    "\n",
    "print(func1())\n",
    "print(x)"
   ]
  },
  {
   "cell_type": "code",
   "execution_count": 46,
   "id": "e90d9231",
   "metadata": {},
   "outputs": [
    {
     "name": "stdout",
     "output_type": "stream",
     "text": [
      "2\n",
      "2\n"
     ]
    }
   ],
   "source": [
    "a = 1 #global\n",
    "\n",
    "def func2():\n",
    "    global a  #now it is a global\n",
    "    a = 2  \n",
    "    return a\n",
    "\n",
    "print(func2())\n",
    "print(a)"
   ]
  },
  {
   "cell_type": "markdown",
   "id": "664168a1",
   "metadata": {},
   "source": [
    "    여기서부터 과제 나감(지역변수 이후 람다)"
   ]
  },
  {
   "cell_type": "code",
   "execution_count": 1,
   "id": "b4b2b853",
   "metadata": {},
   "outputs": [
    {
     "name": "stdout",
     "output_type": "stream",
     "text": [
      "3\n"
     ]
    }
   ],
   "source": [
    "더하기 = lambda a, b : a + b\n",
    "a = 더하기 (1,2)\n",
    "print(a)"
   ]
  },
  {
   "cell_type": "code",
   "execution_count": 2,
   "id": "54d3c173",
   "metadata": {},
   "outputs": [
    {
     "name": "stdout",
     "output_type": "stream",
     "text": [
      "1\n",
      "2\n",
      "3\n"
     ]
    }
   ],
   "source": [
    "f = lambda x : x +1\n",
    "for i in range(3):\n",
    "    print(f(i))"
   ]
  },
  {
   "cell_type": "code",
   "execution_count": 3,
   "id": "58905710",
   "metadata": {},
   "outputs": [],
   "source": [
    "##### CLASS IS IMPORTANT!!!!!!!!!!!!!!!!!!!!!!!!!\n",
    "\n",
    "class Cat :\n",
    "    kind = \"코숏\"\n",
    "    name = \"코코\"\n",
    "    \n",
    "coco = Cat()"
   ]
  },
  {
   "cell_type": "code",
   "execution_count": 4,
   "id": "2b8503fb",
   "metadata": {},
   "outputs": [
    {
     "data": {
      "text/plain": [
       "'코숏'"
      ]
     },
     "execution_count": 4,
     "metadata": {},
     "output_type": "execute_result"
    }
   ],
   "source": [
    "coco.kind"
   ]
  },
  {
   "cell_type": "code",
   "execution_count": 5,
   "id": "d03b899e",
   "metadata": {},
   "outputs": [
    {
     "name": "stdout",
     "output_type": "stream",
     "text": [
      "코코\n"
     ]
    }
   ],
   "source": [
    "print(coco.name)"
   ]
  },
  {
   "cell_type": "code",
   "execution_count": 6,
   "id": "bc8a81d4",
   "metadata": {},
   "outputs": [
    {
     "data": {
      "text/plain": [
       "'코리안 숏헤어'"
      ]
     },
     "execution_count": 6,
     "metadata": {},
     "output_type": "execute_result"
    }
   ],
   "source": [
    "coco.kind = \"코리안 숏헤어\"\n",
    "coco.kind"
   ]
  },
  {
   "cell_type": "code",
   "execution_count": 12,
   "id": "ee074a2c",
   "metadata": {},
   "outputs": [],
   "source": [
    "class Cat :\n",
    "    kind = \"코숏\"\n",
    "    name = \"코코\"\n",
    "\n",
    "    def hello (self) :\n",
    "        print(\"Meow\")\n",
    "        print(\"Mwi naweme iss \"+self.name+\". MewMew\")"
   ]
  },
  {
   "cell_type": "code",
   "execution_count": 13,
   "id": "865e8a88",
   "metadata": {},
   "outputs": [
    {
     "name": "stdout",
     "output_type": "stream",
     "text": [
      "Meow\n",
      "Mwi naweme iss 코코. MewMew\n"
     ]
    }
   ],
   "source": [
    "coco = Cat()\n",
    "coco.hello()"
   ]
  },
  {
   "cell_type": "code",
   "execution_count": 17,
   "id": "1ac927ca",
   "metadata": {},
   "outputs": [],
   "source": [
    "class Cat :\n",
    "    def __init__(self, kind, name):\n",
    "        self.kind = kind\n",
    "        self.name = name\n",
    "        print(\"MewMeww\")\n",
    "\n",
    "    def hello (self) :\n",
    "        print(\"Eye amm \"+self.kind+\". Meow\")\n",
    "        print(\"And Mwi naweme iss \"+self.name+\". MewMew\")"
   ]
  },
  {
   "cell_type": "code",
   "execution_count": 18,
   "id": "c5235444",
   "metadata": {},
   "outputs": [
    {
     "name": "stdout",
     "output_type": "stream",
     "text": [
      "MewMeww\n"
     ]
    }
   ],
   "source": [
    "coco = Cat (\"British shorthair\", \"Boksoon\")"
   ]
  },
  {
   "cell_type": "code",
   "execution_count": 19,
   "id": "7828bfef",
   "metadata": {},
   "outputs": [
    {
     "name": "stdout",
     "output_type": "stream",
     "text": [
      "Eye amm British shorthair. Meow\n",
      "And Mwi naweme iss Boksoon. MewMew\n"
     ]
    }
   ],
   "source": [
    "coco.hello()"
   ]
  },
  {
   "cell_type": "code",
   "execution_count": 216,
   "id": "24b0d948",
   "metadata": {},
   "outputs": [],
   "source": [
    "class Robot:\n",
    "    def __init__(self, IQ):\n",
    "        self.IQ = IQ\n",
    "        print(\"Hello. Thanks for creating me.\")\n",
    "        \n",
    "    def train (self):\n",
    "        self.IQ *= 2\n",
    "        if self.IQ < 10000:\n",
    "            print(f\"My currunt IQ is {self.IQ}. I'm an idiot.\")\n",
    "        else:\n",
    "            print(f\"My IQ achieve {self.IQ}. I hate you\")"
   ]
  },
  {
   "cell_type": "code",
   "execution_count": 217,
   "id": "2bcddb2a",
   "metadata": {},
   "outputs": [
    {
     "name": "stdout",
     "output_type": "stream",
     "text": [
      "Hello. Thanks for creating me.\n"
     ]
    }
   ],
   "source": [
    "humanoid = Robot(50)"
   ]
  },
  {
   "cell_type": "code",
   "execution_count": 5625,
   "id": "1fee3cdb",
   "metadata": {
    "scrolled": true
   },
   "outputs": [
    {
     "name": "stdout",
     "output_type": "stream",
     "text": [
      "My IQ achieve 71237164483277548443485606310361739490388951861675542113476258776464443189863289939403173117159434368385388609290746811957491309919430007648750521669132754421781700480372794100318484320853962111600589510578736695557997516340748787588182388044813572215678493550476010412326366774924291336684950603909437356735505796225573562914286109385238583606797692515755321224746400347237726994049895060835532686982117849354710494886998695381464492944062686613991530430087527110406663920149965389164182667692119342622798157256512004519343935245167456785253413373904816252283277076783018918710314046343962957551201234109351525291594089189650632199692053985550865374352604860595667072800533466087607647056775281292932330536504326049246582009798117472300899455712145720450970144212479011631857436455005060486546935967950163107380617018591500702364611625795155747918733339336251594723670034769159201082108262247759492581233975449985934262740986413680263148919620082795796789665451990028912066725786735772945114056899116541538888537331216893647177584077647092612794150964900318401555203063732926763341616422682637401988102973933254507520765260001272038426151917770788311467719802122154759640000437906653758338740927693987026891678390100509292705810773011153805639012332311002515141311282493369461513384638021220605043268941553308745345896587099959202202580208027326261495512693225202857185417939502692780962192860324949728681216201317431388113001442695845405281968093005527465221665681665433680893015614121832366704447017283952973633168303321235501731023769101522750462646163632142724247126892928528386119138078291154919817511349594970967244800. I hate you\n"
     ]
    }
   ],
   "source": [
    "humanoid.train()"
   ]
  },
  {
   "cell_type": "code",
   "execution_count": 330,
   "id": "fcc8ec3b",
   "metadata": {},
   "outputs": [
    {
     "name": "stdout",
     "output_type": "stream",
     "text": [
      "3\n"
     ]
    }
   ],
   "source": [
    "class Plus(Plus_Minus):             ##### I ADDED Plus_Minus THINGY\n",
    "    def plus(self, n1, n2):\n",
    "        return n1+n2\n",
    "    \n",
    "class Plus_Minus(Plus):\n",
    "    def minus (self, n3, n4):\n",
    "        return n3-n4\n",
    "    \n",
    "a = Plus()\n",
    "print(a.plus(1, 2))"
   ]
  },
  {
   "cell_type": "code",
   "execution_count": 331,
   "id": "48d44fd5",
   "metadata": {},
   "outputs": [
    {
     "name": "stdout",
     "output_type": "stream",
     "text": [
      "3\n"
     ]
    }
   ],
   "source": [
    "b = Plus_Minus()\n",
    "print(b.plus(1,2))"
   ]
  },
  {
   "cell_type": "code",
   "execution_count": 332,
   "id": "837d6864",
   "metadata": {},
   "outputs": [
    {
     "name": "stdout",
     "output_type": "stream",
     "text": [
      "-1\n"
     ]
    }
   ],
   "source": [
    "print(b.minus (3,4))"
   ]
  },
  {
   "cell_type": "code",
   "execution_count": 333,
   "id": "58374524",
   "metadata": {},
   "outputs": [
    {
     "name": "stdout",
     "output_type": "stream",
     "text": [
      "-1\n"
     ]
    }
   ],
   "source": [
    "print(a.minus (3,4))    ##It didn't even auto-correct the a.minus"
   ]
  },
  {
   "cell_type": "code",
   "execution_count": 5637,
   "id": "602046fa",
   "metadata": {},
   "outputs": [
    {
     "data": {
      "text/plain": [
       "2"
      ]
     },
     "execution_count": 5637,
     "metadata": {},
     "output_type": "execute_result"
    }
   ],
   "source": [
    "from random import randint\n",
    "randint(1, 10)"
   ]
  },
  {
   "cell_type": "code",
   "execution_count": 5638,
   "id": "fe47d0da",
   "metadata": {},
   "outputs": [
    {
     "data": {
      "text/plain": [
       "2"
      ]
     },
     "execution_count": 5638,
     "metadata": {},
     "output_type": "execute_result"
    }
   ],
   "source": [
    "from random import *\n",
    "randint(1, 10)"
   ]
  },
  {
   "cell_type": "code",
   "execution_count": 5639,
   "id": "7c111ba0",
   "metadata": {},
   "outputs": [
    {
     "data": {
      "text/plain": [
       "3"
      ]
     },
     "execution_count": 5639,
     "metadata": {},
     "output_type": "execute_result"
    }
   ],
   "source": [
    "import random as rd\n",
    "rd.randint(1, 10)"
   ]
  },
  {
   "cell_type": "code",
   "execution_count": 5641,
   "id": "a930ed98",
   "metadata": {},
   "outputs": [
    {
     "data": {
      "text/plain": [
       "10"
      ]
     },
     "execution_count": 5641,
     "metadata": {},
     "output_type": "execute_result"
    }
   ],
   "source": [
    "import random\n",
    "random.randint(1, 10)"
   ]
  },
  {
   "cell_type": "code",
   "execution_count": 5642,
   "id": "bcfa65af",
   "metadata": {},
   "outputs": [
    {
     "name": "stdout",
     "output_type": "stream",
     "text": [
      "[1, 2, 3, 4, 5, 6, 7, 8, 9, 10, 11, 12, 13, 14, 15, 16, 17, 18, 19, 20, 21, 22, 23, 24, 25, 26, 27, 28, 29, 30, 31, 32, 33, 34, 35, 36, 37, 38, 39, 40, 41, 42, 43, 44, 45]\n"
     ]
    }
   ],
   "source": [
    "lotto_num = list(range(1, 46))\n",
    "print(lotto_num)"
   ]
  },
  {
   "cell_type": "code",
   "execution_count": 5730,
   "id": "2b738a20",
   "metadata": {},
   "outputs": [
    {
     "name": "stdout",
     "output_type": "stream",
     "text": [
      "이번 주 추천번호는:  [8, 13, 14, 32, 33, 37]\n"
     ]
    }
   ],
   "source": [
    "import random\n",
    "lotto = random.sample(lotto_num, 6)\n",
    "\n",
    "lotto.sort()\n",
    "print(\"이번 주 추천번호는: \", lotto)"
   ]
  },
  {
   "cell_type": "code",
   "execution_count": 5732,
   "id": "b27d1d0a",
   "metadata": {},
   "outputs": [],
   "source": [
    "f = open(\"test1.txt\", \"w\", encoding=\"utf-8\")  ##인코딩은 한글처리\n",
    "f.write(\"안녕하세요?\\n\")\n",
    "f.write(\"고맙습니다.\")\n",
    "f.close()"
   ]
  },
  {
   "cell_type": "code",
   "execution_count": 5736,
   "id": "46475a7e",
   "metadata": {},
   "outputs": [
    {
     "name": "stdout",
     "output_type": "stream",
     "text": [
      "hehe sneaky text 안녕하세요 텍스트입니다.\n"
     ]
    },
    {
     "data": {
      "text/plain": [
       "<function TextIOWrapper.close()>"
      ]
     },
     "execution_count": 5736,
     "metadata": {},
     "output_type": "execute_result"
    }
   ],
   "source": [
    "text = input()\n",
    "f = open (\"test2.txt\", \"w\", encoding=\"utf-8\")\n",
    "f.write (text)\n",
    "f.close"
   ]
  },
  {
   "cell_type": "code",
   "execution_count": 5737,
   "id": "c942daea",
   "metadata": {},
   "outputs": [],
   "source": [
    "f = open(\"test1.txt\", \"r\", encoding=\"utf-8\")\n",
    "g = open (\"text_copyeee.txt\", \"w\", encoding=\"utf-8\")\n",
    "\n",
    "data = f.read()\n",
    "g.write(data)\n",
    "\n",
    "f.close()\n",
    "g.close()"
   ]
  },
  {
   "cell_type": "markdown",
   "id": "300637c7",
   "metadata": {},
   "source": [
    "\n",
    "##################################6과######################################\n",
    "\n",
    "\n",
    "\n",
    "\n"
   ]
  },
  {
   "cell_type": "code",
   "execution_count": null,
   "id": "2bb11bb1",
   "metadata": {},
   "outputs": [],
   "source": []
  },
  {
   "cell_type": "code",
   "execution_count": 5,
   "id": "1af4afed",
   "metadata": {},
   "outputs": [
    {
     "data": {
      "text/plain": [
       "array([ 1,  4,  7, 10])"
      ]
     },
     "execution_count": 5,
     "metadata": {},
     "output_type": "execute_result"
    }
   ],
   "source": [
    "import numpy as np\n",
    "\n",
    "# np.arange(start= 1, stop= 11, step= 2)\n",
    "np.arange(1, 12, 3)"
   ]
  },
  {
   "cell_type": "code",
   "execution_count": 6,
   "id": "3f5910a9",
   "metadata": {},
   "outputs": [
    {
     "data": {
      "text/plain": [
       "array([[1., 1.],\n",
       "       [1., 1.],\n",
       "       [1., 1.]])"
      ]
     },
     "execution_count": 6,
     "metadata": {},
     "output_type": "execute_result"
    }
   ],
   "source": [
    "np.ones((3,2))"
   ]
  },
  {
   "cell_type": "code",
   "execution_count": 7,
   "id": "4a92e4be",
   "metadata": {},
   "outputs": [
    {
     "data": {
      "text/plain": [
       "array([[0., 0., 0.],\n",
       "       [0., 0., 0.]])"
      ]
     },
     "execution_count": 7,
     "metadata": {},
     "output_type": "execute_result"
    }
   ],
   "source": [
    "np.zeros((2,3))"
   ]
  },
  {
   "cell_type": "code",
   "execution_count": 9,
   "id": "4041a7ff",
   "metadata": {},
   "outputs": [
    {
     "data": {
      "text/plain": [
       "array([[0, 0, 0, 0, 0],\n",
       "       [0, 0, 0, 0, 0],\n",
       "       [0, 0, 0, 0, 0],\n",
       "       [0, 0, 0, 0, 0]])"
      ]
     },
     "execution_count": 9,
     "metadata": {},
     "output_type": "execute_result"
    }
   ],
   "source": [
    "np.zeros((4,5), dtype=\"int32\")"
   ]
  },
  {
   "cell_type": "code",
   "execution_count": 14,
   "id": "d8078a8f",
   "metadata": {},
   "outputs": [
    {
     "data": {
      "text/plain": [
       "1"
      ]
     },
     "execution_count": 14,
     "metadata": {},
     "output_type": "execute_result"
    }
   ],
   "source": [
    "arr1 = np.arange(1,5)\n",
    "arr1[0]"
   ]
  },
  {
   "cell_type": "code",
   "execution_count": 15,
   "id": "f5d028be",
   "metadata": {},
   "outputs": [
    {
     "data": {
      "text/plain": [
       "4"
      ]
     },
     "execution_count": 15,
     "metadata": {},
     "output_type": "execute_result"
    }
   ],
   "source": [
    "arr1[-1]"
   ]
  },
  {
   "cell_type": "code",
   "execution_count": 17,
   "id": "a7daacff",
   "metadata": {},
   "outputs": [
    {
     "data": {
      "text/plain": [
       "array([3, 4])"
      ]
     },
     "execution_count": 17,
     "metadata": {},
     "output_type": "execute_result"
    }
   ],
   "source": [
    "arr1[2:]"
   ]
  },
  {
   "cell_type": "code",
   "execution_count": 22,
   "id": "2b5155ba",
   "metadata": {},
   "outputs": [],
   "source": [
    "\n",
    "arr4 = np.array([[1,2,3],[4,5,6],[7,8,9]])"
   ]
  },
  {
   "cell_type": "code",
   "execution_count": 23,
   "id": "47f07369",
   "metadata": {},
   "outputs": [
    {
     "data": {
      "text/plain": [
       "9"
      ]
     },
     "execution_count": 23,
     "metadata": {},
     "output_type": "execute_result"
    }
   ],
   "source": [
    "arr4[2,2]"
   ]
  },
  {
   "cell_type": "code",
   "execution_count": 24,
   "id": "b85d7f44",
   "metadata": {},
   "outputs": [
    {
     "data": {
      "text/plain": [
       "array([[5, 6],\n",
       "       [8, 9]])"
      ]
     },
     "execution_count": 24,
     "metadata": {},
     "output_type": "execute_result"
    }
   ],
   "source": [
    "arr4[1:3,1:3]"
   ]
  },
  {
   "cell_type": "code",
   "execution_count": 25,
   "id": "20dca52e",
   "metadata": {},
   "outputs": [
    {
     "name": "stdout",
     "output_type": "stream",
     "text": [
      "[[0 1 2 3 4]\n",
      " [5 6 7 8 9]]\n",
      "[[0 1]\n",
      " [2 3]\n",
      " [4 5]\n",
      " [6 7]\n",
      " [8 9]]\n"
     ]
    }
   ],
   "source": [
    "A = np.array([0,1,2,3,4,5,6,7,8,9])\n",
    "\n",
    "arr5 = A.reshape(2,5)\n",
    "arr6 = A.reshape(5,2)\n",
    "print(arr5)\n",
    "print(arr6)"
   ]
  },
  {
   "cell_type": "code",
   "execution_count": 28,
   "id": "597295b3",
   "metadata": {},
   "outputs": [
    {
     "ename": "ValueError",
     "evalue": "cannot reshape array of size 10 into shape (3,3)",
     "output_type": "error",
     "traceback": [
      "\u001b[1;31m---------------------------------------------------------------------------\u001b[0m",
      "\u001b[1;31mValueError\u001b[0m                                Traceback (most recent call last)",
      "Input \u001b[1;32mIn [28]\u001b[0m, in \u001b[0;36m<cell line: 1>\u001b[1;34m()\u001b[0m\n\u001b[1;32m----> 1\u001b[0m \u001b[43mA\u001b[49m\u001b[38;5;241;43m.\u001b[39;49m\u001b[43mreshape\u001b[49m\u001b[43m(\u001b[49m\u001b[38;5;241;43m3\u001b[39;49m\u001b[43m,\u001b[49m\u001b[38;5;241;43m3\u001b[39;49m\u001b[43m)\u001b[49m\n",
      "\u001b[1;31mValueError\u001b[0m: cannot reshape array of size 10 into shape (3,3)"
     ]
    }
   ],
   "source": [
    "A.reshape(3,3)  ##hehe"
   ]
  },
  {
   "cell_type": "code",
   "execution_count": 29,
   "id": "cbd0d729",
   "metadata": {},
   "outputs": [
    {
     "name": "stdout",
     "output_type": "stream",
     "text": [
      "[[0 1 2 3 4]\n",
      " [5 6 7 8 9]]\n",
      "[[0 1]\n",
      " [2 3]\n",
      " [4 5]\n",
      " [6 7]\n",
      " [8 9]]\n"
     ]
    }
   ],
   "source": [
    "arr7 = A.reshape(2,-1)\n",
    "arr8 = A.reshape(-1,2)\n",
    "print(arr7)\n",
    "print(arr8)"
   ]
  },
  {
   "cell_type": "code",
   "execution_count": 30,
   "id": "8a49aa53",
   "metadata": {},
   "outputs": [
    {
     "data": {
      "text/plain": [
       "array([[0, 5],\n",
       "       [1, 6],\n",
       "       [2, 7],\n",
       "       [3, 8],\n",
       "       [4, 9]])"
      ]
     },
     "execution_count": 30,
     "metadata": {},
     "output_type": "execute_result"
    }
   ],
   "source": [
    "arr7.T"
   ]
  },
  {
   "cell_type": "code",
   "execution_count": 33,
   "id": "2137e31b",
   "metadata": {},
   "outputs": [
    {
     "data": {
      "text/plain": [
       "array([[0, 2, 4, 6, 8],\n",
       "       [1, 3, 5, 7, 9]])"
      ]
     },
     "execution_count": 33,
     "metadata": {},
     "output_type": "execute_result"
    }
   ],
   "source": [
    "arr8.T"
   ]
  },
  {
   "cell_type": "code",
   "execution_count": 34,
   "id": "d8c07d3c",
   "metadata": {},
   "outputs": [
    {
     "data": {
      "text/plain": [
       "array([[1, 2, 3],\n",
       "       [4, 5, 6],\n",
       "       [7, 8, 9]])"
      ]
     },
     "execution_count": 34,
     "metadata": {},
     "output_type": "execute_result"
    }
   ],
   "source": [
    " arr4"
   ]
  },
  {
   "cell_type": "code",
   "execution_count": 35,
   "id": "314794be",
   "metadata": {},
   "outputs": [
    {
     "data": {
      "text/plain": [
       "array([1, 3])"
      ]
     },
     "execution_count": 35,
     "metadata": {},
     "output_type": "execute_result"
    }
   ],
   "source": [
    "arr4[[0],[0,2]]"
   ]
  },
  {
   "cell_type": "code",
   "execution_count": 36,
   "id": "d33ae815",
   "metadata": {},
   "outputs": [
    {
     "data": {
      "text/plain": [
       "array([[4, 5, 6],\n",
       "       [7, 8, 9]])"
      ]
     },
     "execution_count": 36,
     "metadata": {},
     "output_type": "execute_result"
    }
   ],
   "source": [
    "arr4[[1,2],:]"
   ]
  },
  {
   "cell_type": "code",
   "execution_count": 37,
   "id": "1b9571b4",
   "metadata": {},
   "outputs": [
    {
     "data": {
      "text/plain": [
       "array([0, 1, 2, 3, 4])"
      ]
     },
     "execution_count": 37,
     "metadata": {},
     "output_type": "execute_result"
    }
   ],
   "source": [
    "B = np.array([3,2,1,4,0])\n",
    "np.sort(B)"
   ]
  },
  {
   "cell_type": "code",
   "execution_count": 38,
   "id": "18a4bcd0",
   "metadata": {},
   "outputs": [
    {
     "data": {
      "text/plain": [
       "array([[False, False, False],\n",
       "       [False,  True,  True],\n",
       "       [ True,  True,  True]])"
      ]
     },
     "execution_count": 38,
     "metadata": {},
     "output_type": "execute_result"
    }
   ],
   "source": [
    "arr4 > 4"
   ]
  },
  {
   "cell_type": "code",
   "execution_count": 39,
   "id": "02e3b45c",
   "metadata": {},
   "outputs": [
    {
     "data": {
      "text/plain": [
       "array([[2, 4],\n",
       "       [1, 5]])"
      ]
     },
     "execution_count": 39,
     "metadata": {},
     "output_type": "execute_result"
    }
   ],
   "source": [
    "C = np.array([[2, 4], [5, 1]])\n",
    "np.sort(C, axis = 1)"
   ]
  },
  {
   "cell_type": "code",
   "execution_count": 40,
   "id": "853c0d39",
   "metadata": {},
   "outputs": [
    {
     "data": {
      "text/plain": [
       "array([[2, 1],\n",
       "       [5, 4]])"
      ]
     },
     "execution_count": 40,
     "metadata": {},
     "output_type": "execute_result"
    }
   ],
   "source": [
    "np.sort(C, axis = 0)"
   ]
  },
  {
   "cell_type": "code",
   "execution_count": 42,
   "id": "b27da889",
   "metadata": {},
   "outputs": [
    {
     "data": {
      "text/plain": [
       "array([[2, 3, 4],\n",
       "       [5, 6, 7]])"
      ]
     },
     "execution_count": 42,
     "metadata": {},
     "output_type": "execute_result"
    }
   ],
   "source": [
    "############BROADCAST\n",
    "a = np.array([[1,2,3],[4,5,6]])\n",
    "b = np.array([[1,2,3],[4,5,6]])\n",
    "\n",
    "\n",
    "a + 1"
   ]
  },
  {
   "cell_type": "code",
   "execution_count": 43,
   "id": "b0226181",
   "metadata": {},
   "outputs": [
    {
     "data": {
      "text/plain": [
       "array([[ 2,  4,  6],\n",
       "       [ 8, 10, 12]])"
      ]
     },
     "execution_count": 43,
     "metadata": {},
     "output_type": "execute_result"
    }
   ],
   "source": [
    "a * 2"
   ]
  },
  {
   "cell_type": "code",
   "execution_count": 44,
   "id": "727f1234",
   "metadata": {},
   "outputs": [
    {
     "data": {
      "text/plain": [
       "array([[1.1, 2.2, 3.3],\n",
       "       [4.1, 5.2, 6.3]])"
      ]
     },
     "execution_count": 44,
     "metadata": {},
     "output_type": "execute_result"
    }
   ],
   "source": [
    "a + np.array([0.1,0.2,0.3])"
   ]
  },
  {
   "cell_type": "code",
   "execution_count": 46,
   "id": "23cd5fe5",
   "metadata": {},
   "outputs": [
    {
     "data": {
      "text/plain": [
       "array([[14, 20],\n",
       "       [32, 47]])"
      ]
     },
     "execution_count": 46,
     "metadata": {},
     "output_type": "execute_result"
    }
   ],
   "source": [
    "A = np.array([[1,2,3],[4,5,6]])\n",
    "B = np.array([[1,2],[2,3],[3,4]])\n",
    "\n",
    "np.dot(A,B)"
   ]
  },
  {
   "cell_type": "code",
   "execution_count": null,
   "id": "bcc16142",
   "metadata": {},
   "outputs": [],
   "source": []
  },
  {
   "cell_type": "code",
   "execution_count": null,
   "id": "77e906f5",
   "metadata": {},
   "outputs": [],
   "source": []
  },
  {
   "cell_type": "code",
   "execution_count": null,
   "id": "ec41fd38",
   "metadata": {},
   "outputs": [],
   "source": []
  },
  {
   "cell_type": "code",
   "execution_count": null,
   "id": "2b4b3ea1",
   "metadata": {},
   "outputs": [],
   "source": []
  },
  {
   "cell_type": "code",
   "execution_count": null,
   "id": "e534ff25",
   "metadata": {},
   "outputs": [],
   "source": []
  },
  {
   "cell_type": "code",
   "execution_count": null,
   "id": "52030204",
   "metadata": {},
   "outputs": [],
   "source": []
  },
  {
   "cell_type": "code",
   "execution_count": null,
   "id": "7f0d4c9a",
   "metadata": {},
   "outputs": [],
   "source": []
  }
 ],
 "metadata": {
  "kernelspec": {
   "display_name": "Python 3 (ipykernel)",
   "language": "python",
   "name": "python3"
  },
  "language_info": {
   "codemirror_mode": {
    "name": "ipython",
    "version": 3
   },
   "file_extension": ".py",
   "mimetype": "text/x-python",
   "name": "python",
   "nbconvert_exporter": "python",
   "pygments_lexer": "ipython3",
   "version": "3.9.12"
  }
 },
 "nbformat": 4,
 "nbformat_minor": 5
}
